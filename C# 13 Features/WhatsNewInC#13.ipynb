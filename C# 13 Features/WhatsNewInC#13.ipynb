{
 "cells": [
  {
   "cell_type": "markdown",
   "metadata": {},
   "source": [
    "# Welcome\n",
    "\n",
    "Welcome to this interactive notebook showcasing the new features of C# 13. In this notebook, we will explore some of the exciting enhancements and additions to the C# language.\n",
    "You will find code examples and explanations that demonstrate how these new features can be used to write more efficient and expressive code. Let's dive in and see what's new in C# 13!\n",
    "This showcase will follow the [official post](https://learn.microsoft.com/en-us/dotnet/csharp/whats-new/csharp-13) about the newest features in C#, if you want further information, you will find them there!"
   ]
  },
  {
   "cell_type": "markdown",
   "metadata": {},
   "source": [
    "## Intro\n",
    "Before we dive into the new features, lets get familiar with Polyglot notebooks. If your are familiar with Jupiter notebooks, you can probably skip this part. For all new to notebooks, let me explain the basics:\n",
    "In a notebook, you can tell an interactive journey using text and code. Below you will find your first code cell, update the variable `name`, to hold your name."
   ]
  },
  {
   "cell_type": "code",
   "execution_count": 2,
   "metadata": {
    "dotnet_interactive": {
     "language": "csharp"
    },
    "polyglot_notebook": {
     "kernelName": "csharp"
    },
    "vscode": {
     "languageId": "polyglot-notebook"
    }
   },
   "outputs": [],
   "source": [
    "var name = \"Bjarne\";"
   ]
  },
  {
   "cell_type": "markdown",
   "metadata": {},
   "source": [
    "As you can see, the variable is not scoped to a single cell. Instead we can use it in the cell above to welcome you.\n",
    "Congrats, you just solved your first cell! Now check the output below. "
   ]
  },
  {
   "cell_type": "code",
   "execution_count": null,
   "metadata": {
    "dotnet_interactive": {
     "language": "csharp"
    },
    "polyglot_notebook": {
     "kernelName": "csharp"
    },
    "vscode": {
     "languageId": "polyglot-notebook"
    }
   },
   "outputs": [],
   "source": [
    "Console.WriteLine(\"Hello, \" + name + \"!\");"
   ]
  },
  {
   "cell_type": "markdown",
   "metadata": {},
   "source": [
    "# Params Collection\n",
    "You probably heard of them and the `params` keyword, but rarely used it: Params collections. Let's refresh our memories and fix the code using params collection."
   ]
  },
  {
   "cell_type": "code",
   "execution_count": null,
   "metadata": {
    "dotnet_interactive": {
     "language": "csharp"
    },
    "polyglot_notebook": {
     "kernelName": "csharp"
    },
    "vscode": {
     "languageId": "polyglot-notebook"
    }
   },
   "outputs": [],
   "source": [
    "public void PrintStrings(string[] strings)\n",
    "{\n",
    "    foreach (var s in strings)\n",
    "    {\n",
    "        Console.WriteLine(s);\n",
    "    }\n",
    "}\n",
    "\n",
    "PrintStrings(\"Donald\", \"Mickey\", \"Goofy\");"
   ]
  },
  {
   "cell_type": "markdown",
   "metadata": {},
   "source": [
    "The `params` modifier allows us to create a method that takes an arbitrary number of parameters of the same type wihthout using an array to call the method. In our example, we can just pass three strings.\n",
    "In C# 12, `params` can only be applied to arrays, not `ImmutableArray<T>` or even `Span<T>`. This changed in C#13 where we can use params for any valid collection epxression type such as `Span<T>`, `ICollection<T>`, `IEnumerable` and much more.\n",
    " "
   ]
  },
  {
   "cell_type": "code",
   "execution_count": null,
   "metadata": {
    "dotnet_interactive": {
     "language": "csharp"
    },
    "polyglot_notebook": {
     "kernelName": "csharp"
    },
    "vscode": {
     "languageId": "polyglot-notebook"
    }
   },
   "outputs": [],
   "source": [
    "public void PrintStrings(params ReadOnlySpan<string> strings)\n",
    "{\n",
    "    foreach (var s in strings)\n",
    "    {\n",
    "        Console.WriteLine(s);\n",
    "    }\n",
    "}\n",
    "\n",
    "PrintStrings(\"Donald\", \"Mickey\", \"Goofy\");  "
   ]
  },
  {
   "cell_type": "markdown",
   "metadata": {},
   "source": [
    "# New Lock Object\n",
    "If you work with multiple Threads / Taks in C#, you may encounter the situation in which a special part of your logic should not be executed in parallel.\n",
    "For example a dictionary, one should not delete and access the same key at the same point in time. Instead we want execute the different actions after each other and not in parallel. This can be achieved with the `lock(x){}` statement:"
   ]
  },
  {
   "cell_type": "code",
   "execution_count": null,
   "metadata": {
    "dotnet_interactive": {
     "language": "csharp"
    },
    "polyglot_notebook": {
     "kernelName": "csharp"
    },
    "vscode": {
     "languageId": "polyglot-notebook"
    }
   },
   "outputs": [],
   "source": [
    "var lockObject = new Object();\n",
    "\n",
    "lock(lockObject)\n",
    "{\n",
    "    Console.WriteLine(\"Only one thread at a time.\");\n",
    "}"
   ]
  },
  {
   "cell_type": "markdown",
   "metadata": {},
   "source": [
    "Up to C# 12, any `Object` could be used as a `lockObject`. When a given Thread entered the `lock` block, it would use the `lockObject` to mark that is has entered the block, preventing other threads from entering the block with the same object.\n",
    "Internally, the compiler would transpile the `lock`statement into:\n",
    "```C#\n",
    "object __lockObj = x;\n",
    "bool __lockWasTaken = false;\n",
    "try\n",
    "{\n",
    "    System.Threading.Monitor.Enter(__lockObj, ref __lockWasTaken);\n",
    "    Console.WriteLine(\"Only one thread at a time.\");\n",
    "}\n",
    "finally\n",
    "{\n",
    "    if (__lockWasTaken) System.Threading.Monitor.Exit(__lockObj);\n",
    "}\n",
    "\n",
    "```\n",
    "Using `System.Threading.Monitor.Enter` for handling the different threads, blocking them until the previous Thread called `Exit`.\n",
    "\n",
    "\n",
    "C# 13 introduces a new special Type `System.Threading.Lock` to be used as the `lockObject`: "
   ]
  },
  {
   "cell_type": "code",
   "execution_count": null,
   "metadata": {
    "dotnet_interactive": {
     "language": "csharp"
    },
    "polyglot_notebook": {
     "kernelName": "csharp"
    },
    "vscode": {
     "languageId": "polyglot-notebook"
    }
   },
   "outputs": [],
   "source": [
    "var lockObject = new System.Threading.Lock();\n",
    "\n",
    "lock(lockObject)\n",
    "{\n",
    "    Console.WriteLine(\"Only one thread at a time.\");\n",
    "}"
   ]
  },
  {
   "cell_type": "markdown",
   "metadata": {},
   "source": [
    "If the lock statement is used with the new Type, the compiler generates a different result, based on a disposbale scope acquired by the lock using the familiar `IDisposable` pattern. If the scope is disposed, another thread can enter the locked scoped. Allowing a more streamline approach at thrad synchronization based on known patterns."
   ]
  },
  {
   "cell_type": "code",
   "execution_count": null,
   "metadata": {
    "dotnet_interactive": {
     "language": "csharp"
    },
    "polyglot_notebook": {
     "kernelName": "csharp"
    },
    "vscode": {
     "languageId": "polyglot-notebook"
    }
   },
   "outputs": [],
   "source": [
    "using (lockObject.EnterScope())\n",
    "{\n",
    "    Console.WriteLine(\"Only one thread at a time.\");\n",
    "}"
   ]
  },
  {
   "cell_type": "markdown",
   "metadata": {},
   "source": [
    "# New Escape Sequence \n",
    "C# 13 introduces a new character literal. While character literals may not ring a bell, you are probably familiar with the character literal `\\n` representing a new line. In the newest version of C#, you can use `\\e` as the escape sequence for the `ESCAPE` character, which was previously achieved via `\\u001b`.\n",
    "The `ESCAPE`character allows the usage of the old [ANSI-Escape-Codes](https://en.wikipedia.org/wiki/ANSI_escape_code), allowing different text formatting:"
   ]
  },
  {
   "cell_type": "code",
   "execution_count": null,
   "metadata": {
    "dotnet_interactive": {
     "language": "csharp"
    },
    "polyglot_notebook": {
     "kernelName": "csharp"
    },
    "vscode": {
     "languageId": "polyglot-notebook"
    }
   },
   "outputs": [],
   "source": [
    "Console.WriteLine(\"Hello, in regular Text\");\n",
    "Console.WriteLine(\"\\u001b[1mHello, in bold Text\\u001b[0m\");\n",
    "Console.WriteLine(\"\\u001b[4mHello, in underlined text\\u001b[0m\");"
   ]
  },
  {
   "cell_type": "markdown",
   "metadata": {},
   "source": [
    "With the new character literal `\\e`, these become easier to use:"
   ]
  },
  {
   "cell_type": "code",
   "execution_count": null,
   "metadata": {
    "dotnet_interactive": {
     "language": "csharp"
    },
    "polyglot_notebook": {
     "kernelName": "csharp"
    },
    "vscode": {
     "languageId": "polyglot-notebook"
    }
   },
   "outputs": [],
   "source": [
    "Console.WriteLine(\"Hello, in regular Text\");\n",
    "Console.WriteLine(\"\\e[1mHello, in bold Text\\e[0m\");\n",
    "Console.WriteLine(\"\\e[4mHello, in underlined text\\e[0m\");"
   ]
  },
  {
   "cell_type": "markdown",
   "metadata": {},
   "source": [
    "# Implicit Index Access\n",
    "C# 8 introduced the two types `System.Index` and `System.Range` allowing easy indexing and enumration of collections:"
   ]
  },
  {
   "cell_type": "code",
   "execution_count": 10,
   "metadata": {
    "dotnet_interactive": {
     "language": "csharp"
    },
    "polyglot_notebook": {
     "kernelName": "csharp"
    },
    "vscode": {
     "languageId": "polyglot-notebook"
    }
   },
   "outputs": [],
   "source": [
    "// Helper function that prints a given array.\n",
    "public void PrintArray<T>(string title, T[] array)\n",
    "{\n",
    "    Console.Write($\"{title}: \");\n",
    "    foreach (var item in array)\n",
    "    {\n",
    "        Console.Write($\"{item}, \");\n",
    "    }\n",
    "    Console.WriteLine();\n",
    "}"
   ]
  },
  {
   "cell_type": "code",
   "execution_count": null,
   "metadata": {
    "dotnet_interactive": {
     "language": "csharp"
    },
    "polyglot_notebook": {
     "kernelName": "csharp"
    },
    "vscode": {
     "languageId": "polyglot-notebook"
    }
   },
   "outputs": [],
   "source": [
    "int[] numbers = [1,2,3,4,5,6,7,8,9,10];\n",
    "\n",
    "var myNumbers = numbers[2..5];\n",
    "PrintArray(nameof(myNumbers), myNumbers);\n",
    "\n",
    "var lastTwo = numbers[^2..];\n",
    "PrintArray(nameof(lastTwo), lastTwo);"
   ]
  },
  {
   "cell_type": "markdown",
   "metadata": {},
   "source": [
    "In C# 13, we can now use the *from the end* index operator `^`, for object initialization"
   ]
  },
  {
   "cell_type": "code",
   "execution_count": null,
   "metadata": {
    "dotnet_interactive": {
     "language": "csharp"
    },
    "polyglot_notebook": {
     "kernelName": "csharp"
    },
    "vscode": {
     "languageId": "polyglot-notebook"
    }
   },
   "outputs": [],
   "source": [
    "var coolNames = new string[4];\n",
    "\n",
    "coolNames = {\n",
    "    [^1] = \"Mickey\",\n",
    "    [^2] = \"Donald\",\n",
    "    [^3] = \"Goofy\",\n",
    "    [^4] = \"Pluto\"\n",
    "};\n",
    "PrintArray(nameof(coolNames), coolNames);"
   ]
  },
  {
   "cell_type": "markdown",
   "metadata": {},
   "source": [
    "# Use `ref` and `unsafe` in iterators and `async` methods\n",
    "If you are unfamiliar with `ref, unsafe` and `ref struct`, I recommend reading [this explanaition](https://okyrylchuk.dev/blog/understanding-struct-vs-ref-struct-in-csharp/) from Oleg Kyrylchuk.\n",
    "As a short summary, while a `struct` type can be boxed and thus, moved to the heap, a `ref struct` can not be moved to the heap.\n",
    "\n",
    "C# 13 allows the usage of `ref` and `unsafe` within iterators and async methods, as long as they stay within the `await` boundary or do not cross a `yield return`.\n",
    "For example, one is now able to define or use a `Span<T>` which is a `ref struct` inside an `async` method."
   ]
  },
  {
   "cell_type": "code",
   "execution_count": null,
   "metadata": {
    "dotnet_interactive": {
     "language": "csharp"
    },
    "polyglot_notebook": {
     "kernelName": "csharp"
    },
    "vscode": {
     "languageId": "polyglot-notebook"
    }
   },
   "outputs": [],
   "source": [
    "public async Task<bool> MyAsyncMethod()\n",
    "{\n",
    "    await Task.Delay(1000);\n",
    "    var span = \"Hello, World!\".AsSpan();\n",
    "    var result = span.EndsWith(\"World\");\n",
    "    return result;\n",
    "}"
   ]
  },
  {
   "cell_type": "markdown",
   "metadata": {},
   "source": [
    "# `ref struct` interfaces\n",
    "\n",
    "As stated before, some constraints regarding `ref` and `unsafe` where lifted. In C# 13, `ref structs` are now able to implement interfaces. In contrast to types which can be moved to heap, such `ref structs`can not be cast to the interface, as this would box them and thus, move them to the heap. This feature is especially useful in combination with the next lifted constraint regarding generics."
   ]
  },
  {
   "cell_type": "code",
   "execution_count": null,
   "metadata": {
    "dotnet_interactive": {
     "language": "csharp"
    },
    "polyglot_notebook": {
     "kernelName": "csharp"
    },
    "vscode": {
     "languageId": "polyglot-notebook"
    }
   },
   "outputs": [],
   "source": [
    "interface IMyInterface\n",
    "{\n",
    "    void MyMethod();\n",
    "}\n",
    "\n",
    "ref struct MyRefStruct : IMyInterface\n",
    "{\n",
    "    public void MyMethod()\n",
    "    {\n",
    "        Console.WriteLine(\"MyMethod called.\");\n",
    "    }\n",
    "}\n",
    "\n",
    "void TestMyRefStruct()\n",
    "{\n",
    "    var myRefStruct = new MyRefStruct();\n",
    "    myRefStruct.MyMethod();\n",
    "\n",
    "    // Not allowed, as ref structs cannot be boxed\n",
    "    IMyInterface myInterface = myRefStruct;\n",
    "    \n",
    "}\n"
   ]
  },
  {
   "cell_type": "markdown",
   "metadata": {},
   "source": [
    "# New generic *anti-constraint* `allows ref struct`\n",
    "With C# 13, `ref struct` can be passed into a generic with the new *anti-constraint* `allows ref struct`. It's called an *anti-constraint* becuase in constrat to existing constraints, it is not limiting but widening the possible used types.\n",
    "With this new feature, `ref struct` types can be used with generics as seen in the example below. This is especially useful in combinatin with the new feature above, allowing `ref struct` to implement interfaces.\n",
    "\n",
    "The example below illustrates a performant implementation of the `IHeadElement<T>` interface with a `ref struct` that is used as a type argument for the `HeadPrinter`. \n",
    "While this is not an useful example, the underlying principle could be used, to create an efficient, `Span<T>`based implementation of various interfaces such as `IReadOnlyList<T>` for example."
   ]
  },
  {
   "cell_type": "code",
   "execution_count": null,
   "metadata": {
    "dotnet_interactive": {
     "language": "csharp"
    },
    "polyglot_notebook": {
     "kernelName": "csharp"
    },
    "vscode": {
     "languageId": "polyglot-notebook"
    }
   },
   "outputs": [],
   "source": [
    "\n",
    "public interface IHeadElement<T>{    \n",
    "    T Head { get; }\n",
    "\n",
    "}\n",
    "\n",
    "public ref struct MyRefStruct : IHeadElement<int>{\n",
    "    public int Head { get; set; }\n",
    "}\n",
    "\n",
    "\n",
    "public class HeadPrinter<T, T2> where T : IHeadElement<T2> , allows ref struct\n",
    "{\n",
    "    public void Print(scoped T refStruct) { \n",
    "        Console.WriteLine(refStruct.Head);\n",
    "    }\n",
    "}\n",
    "\n",
    "\n",
    "\n",
    "public void Test() {\n",
    "    var headPrinter = new HeadPrinter<MyRefStruct, int>();\n",
    "\n",
    "    MyRefStruct myRef = new MyRefStruct();\n",
    "    myRef.Head = 42;\n",
    "\n",
    "    headPrinter.Print(myRef);\n",
    "\n",
    "}\n",
    "\n",
    "Test();"
   ]
  },
  {
   "cell_type": "markdown",
   "metadata": {},
   "source": [
    "# More `partial` Members\n",
    "The existing `partial` keyword allows the separation of a *declaring* and *implementing* definition of members such as methods. This is often used in combination with [Source Generators](https://learn.microsoft.com/en-us/dotnet/csharp/roslyn-sdk/#source-generators) with the `GeneratedRegex` attribute being a prominent example:\n",
    "\n",
    "```csharp\n",
    "using System.Text.RegularExpressions;\n",
    "\n",
    "public partial class RegExSourceGenerator\n",
    "{\n",
    "    [GeneratedRegex(\"hen|rooster\", RegexOptions.IgnoreCase, \"en-US\")]\n",
    "    private static partial Regex HenOrRosterRegex();\n",
    "\n",
    "    private static void EvaluateText(string text)\n",
    "    {\n",
    "        if (HenOrRosterRegex().IsMatch(text))\n",
    "        {\n",
    "            Console.WriteLine(\"Found a Hen or Rooster!\");\n",
    "        }\n",
    "        else\n",
    "        {\n",
    "            Console.WriteLine(\"No Hen or Rooster found.\");\n",
    "        }\n",
    "    }\n",
    "}\n",
    "\n",
    "```\n",
    "In this example, a partial Member `HenOrRosterRegex` is defined. Its implementation is generated by the [Regular expression source generator](https://learn.microsoft.com/en-us/dotnet/standard/base-types/regular-expression-source-generators).\n",
    "\n",
    "With C# 13, the `partial` keyword can now be applied to properties and indexers."
   ]
  },
  {
   "cell_type": "code",
   "execution_count": null,
   "metadata": {
    "dotnet_interactive": {
     "language": "csharp"
    },
    "polyglot_notebook": {
     "kernelName": "csharp"
    },
    "vscode": {
     "languageId": "polyglot-notebook"
    }
   },
   "outputs": [],
   "source": [
    "partial class PartialClass\n",
    "{\n",
    "    public partial string MyPartialProperty {get;set;}\n",
    "\n",
    "    public partial char this[int index] {get;}\n",
    "}\n",
    "\n",
    "// This can be in its own file\n",
    "partial class PartialClass\n",
    "{\n",
    "    private string _myPartialProperty;\n",
    "    public partial string MyPartialProperty\n",
    "    {\n",
    "        get => _myPartialProperty;\n",
    "        set => _myPartialProperty = value;\n",
    "    }\n",
    "\n",
    "    public partial char this[int index]\n",
    "    {\n",
    "        get => _myPartialProperty[index];\n",
    "    }\n",
    "}\n",
    "\n",
    "var partialClass = new PartialClass();\n",
    "\n",
    "partialClass.MyPartialProperty = \"Hello, World!\";\n",
    "\n",
    "Console.WriteLine(partialClass.MyPartialProperty);\n",
    "Console.WriteLine(partialClass[1]);"
   ]
  },
  {
   "cell_type": "markdown",
   "metadata": {},
   "source": [
    "# Overload resolution priority\n",
    "C# 13 introduces a new `OverloadResolutionPriority` attribute. With this attribute, one can define which overload is the prefered one, when two ambiguous overloads are available. The constructor takes an integer defining the priority as an argument. Overloads without the attribute have a default priority of zero. This can be useful for libary authors which introduce a new, prefered overload.\n",
    "\n",
    "\n",
    "Feel free to remove the `OverloadResolutionPriority` attribute in the example below and see the effect!"
   ]
  },
  {
   "cell_type": "code",
   "execution_count": null,
   "metadata": {
    "dotnet_interactive": {
     "language": "csharp"
    },
    "polyglot_notebook": {
     "kernelName": "csharp"
    },
    "vscode": {
     "languageId": "polyglot-notebook"
    }
   },
   "outputs": [],
   "source": [
    "using System.Runtime.CompilerServices;\n",
    "\n",
    "public class OverloadResolutionPriorityExample{\n",
    "    [OverloadResolutionPriority(1)]\n",
    "    public void PrintString(params ReadOnlySpan<string> s) => Console.WriteLine(\"Span Overload\");\n",
    "\n",
    "    public void PrintString(params string[] strings) => Console.WriteLine(\"Array based\");\n",
    "\n",
    "}\n",
    "\n",
    "var stringPrinter = new OverloadResolutionPriorityExample();\n",
    "\n",
    "string[] strings = {\"Hello\", \"World\"};\n",
    "\n",
    "stringPrinter.PrintString(strings);\n",
    "\n",
    "stringPrinter.PrintString(\"Hello, World!\");"
   ]
  },
  {
   "cell_type": "markdown",
   "metadata": {},
   "source": [
    "# Introducing the `field` Keyword\n",
    "This new feature is still in preview in C#13 and can be enabled by setting the `<LangVersion>` to `preview` within your project file. Enabling this feature introduces a new token `field`, which may introduce a breaking change in you codebase, as `field` is now a reserved token of C#. As a mitigashiation, you can rename your usage of `field` into `@field` or `this.field`.\n",
    "\n",
    "The new keyword can be used in getters and setters to access the compiler synthesized backing field of a property and thus reduce boilerplate code:"
   ]
  },
  {
   "cell_type": "code",
   "execution_count": null,
   "metadata": {
    "dotnet_interactive": {
     "language": "csharp"
    },
    "polyglot_notebook": {
     "kernelName": "csharp"
    },
    "vscode": {
     "languageId": "polyglot-notebook"
    }
   },
   "outputs": [],
   "source": [
    "class Ticket {\n",
    "    public int Price {\n",
    "        get;\n",
    "        set => field = (value > 0) \n",
    "            ? value \n",
    "            : throw new ArgumentOutOfRangeException(\"Price must be positive\");;\n",
    "    }\n",
    "}"
   ]
  }
 ],
 "metadata": {
  "kernelspec": {
   "display_name": ".NET (C#)",
   "language": "C#",
   "name": ".net-csharp"
  },
  "language_info": {
   "name": "python"
  },
  "polyglot_notebook": {
   "kernelInfo": {
    "defaultKernelName": "csharp",
    "items": [
     {
      "aliases": [],
      "name": "csharp"
     }
    ]
   }
  }
 },
 "nbformat": 4,
 "nbformat_minor": 2
}
